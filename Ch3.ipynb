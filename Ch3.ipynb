{
 "cells": [
  {
   "cell_type": "code",
   "execution_count": 1,
   "metadata": {},
   "outputs": [
    {
     "output_type": "execute_result",
     "data": {
      "text/plain": [
       "dict_keys(['data', 'target', 'frame', 'categories', 'feature_names', 'target_names', 'DESCR', 'details', 'url'])"
      ]
     },
     "metadata": {},
     "execution_count": 1
    }
   ],
   "source": [
    "from sklearn.datasets import fetch_openml\n",
    "mnist = fetch_openml('mnist_784', version=1)\n",
    "mnist.keys()"
   ]
  },
  {
   "cell_type": "code",
   "execution_count": 3,
   "metadata": {},
   "outputs": [
    {
     "output_type": "execute_result",
     "data": {
      "text/plain": [
       "(70000,)"
      ]
     },
     "metadata": {},
     "execution_count": 3
    }
   ],
   "source": [
    "X, y = mnist[\"data\"], mnist[\"target\"]\n",
    "X.shape\n",
    "y.shape\n"
   ]
  },
  {
   "cell_type": "code",
   "execution_count": 4,
   "metadata": {},
   "outputs": [
    {
     "output_type": "display_data",
     "data": {
      "text/plain": "<Figure size 432x288 with 1 Axes>",
      "image/svg+xml": "<?xml version=\"1.0\" encoding=\"utf-8\" standalone=\"no\"?>\n<!DOCTYPE svg PUBLIC \"-//W3C//DTD SVG 1.1//EN\"\n  \"http://www.w3.org/Graphics/SVG/1.1/DTD/svg11.dtd\">\n<!-- Created with matplotlib (https://matplotlib.org/) -->\n<svg height=\"231.84pt\" version=\"1.1\" viewBox=\"0 0 231.84 231.84\" width=\"231.84pt\" xmlns=\"http://www.w3.org/2000/svg\" xmlns:xlink=\"http://www.w3.org/1999/xlink\">\n <metadata>\n  <rdf:RDF xmlns:cc=\"http://creativecommons.org/ns#\" xmlns:dc=\"http://purl.org/dc/elements/1.1/\" xmlns:rdf=\"http://www.w3.org/1999/02/22-rdf-syntax-ns#\">\n   <cc:Work>\n    <dc:type rdf:resource=\"http://purl.org/dc/dcmitype/StillImage\"/>\n    <dc:date>2020-11-02T19:07:25.535004</dc:date>\n    <dc:format>image/svg+xml</dc:format>\n    <dc:creator>\n     <cc:Agent>\n      <dc:title>Matplotlib v3.3.2, https://matplotlib.org/</dc:title>\n     </cc:Agent>\n    </dc:creator>\n   </cc:Work>\n  </rdf:RDF>\n </metadata>\n <defs>\n  <style type=\"text/css\">*{stroke-linecap:butt;stroke-linejoin:round;}</style>\n </defs>\n <g id=\"figure_1\">\n  <g id=\"patch_1\">\n   <path d=\"M 0 231.84 \nL 231.84 231.84 \nL 231.84 0 \nL 0 0 \nz\n\" style=\"fill:none;\"/>\n  </g>\n  <g id=\"axes_1\">\n   <g clip-path=\"url(#p03dbb7e159)\">\n    <image height=\"218\" id=\"image230d0b688f\" transform=\"scale(1 -1)translate(0 -218)\" width=\"218\" x=\"7.2\" xlink:href=\"data:image/png;base64,\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\" y=\"-6.64\"/>\n   </g>\n  </g>\n </g>\n <defs>\n  <clipPath id=\"p03dbb7e159\">\n   <rect height=\"217.44\" width=\"217.44\" x=\"7.2\" y=\"7.2\"/>\n  </clipPath>\n </defs>\n</svg>\n",
      "image/png": "[encoded data removed]"
     },
     "metadata": {
      "needs_background": "light"
     }
    }
   ],
   "source": [
    "import matplotlib as mpl\n",
    "import matplotlib.pyplot as plt\n",
    "\n",
    "some_digit = X[0]\n",
    "some_digit_image = some_digit.reshape(28, 28)\n",
    "\n",
    "plt.imshow(some_digit_image, cmap=\"binary\")\n",
    "plt.axis(\"off\")\n",
    "plt.show()"
   ]
  },
  {
   "cell_type": "code",
   "execution_count": 5,
   "metadata": {},
   "outputs": [
    {
     "output_type": "execute_result",
     "data": {
      "text/plain": [
       "'5'"
      ]
     },
     "metadata": {},
     "execution_count": 5
    }
   ],
   "source": [
    "y[0]"
   ]
  },
  {
   "cell_type": "code",
   "execution_count": 8,
   "metadata": {},
   "outputs": [],
   "source": [
    "import numpy as np\n",
    "y = y.astype(np.uint8)"
   ]
  },
  {
   "cell_type": "code",
   "execution_count": 9,
   "metadata": {},
   "outputs": [],
   "source": [
    "X_train, X_test, y_train, y_test = X[:60000], X[60000:], y[:60000], y[60000:]"
   ]
  },
  {
   "cell_type": "code",
   "execution_count": 10,
   "metadata": {},
   "outputs": [],
   "source": [
    "y_train_5 = (y_train == 5)\n",
    "y_test_5 = (y_test == 5)"
   ]
  },
  {
   "cell_type": "code",
   "execution_count": 11,
   "metadata": {},
   "outputs": [
    {
     "output_type": "execute_result",
     "data": {
      "text/plain": [
       "SGDClassifier(random_state=42)"
      ]
     },
     "metadata": {},
     "execution_count": 11
    }
   ],
   "source": [
    "from sklearn.linear_model import SGDClassifier\n",
    "\n",
    "sgd_clf = SGDClassifier(random_state=42)\n",
    "sgd_clf.fit(X_train, y_train_5)"
   ]
  },
  {
   "cell_type": "code",
   "execution_count": 12,
   "metadata": {},
   "outputs": [
    {
     "output_type": "execute_result",
     "data": {
      "text/plain": [
       "array([ True])"
      ]
     },
     "metadata": {},
     "execution_count": 12
    }
   ],
   "source": [
    "sgd_clf.predict([some_digit])"
   ]
  },
  {
   "cell_type": "code",
   "execution_count": 13,
   "metadata": {},
   "outputs": [
    {
     "output_type": "execute_result",
     "data": {
      "text/plain": [
       "array([0.95035, 0.96035, 0.9604 ])"
      ]
     },
     "metadata": {},
     "execution_count": 13
    }
   ],
   "source": [
    "from sklearn.model_selection import cross_val_score\n",
    "cross_val_score(sgd_clf, X_train, y_train_5, cv=3, scoring=\"accuracy\")"
   ]
  },
  {
   "cell_type": "code",
   "execution_count": 14,
   "metadata": {},
   "outputs": [],
   "source": [
    "from sklearn.base import BaseEstimator\n",
    "\n",
    "class Never5Classifier(BaseEstimator):\n",
    "    def fit(self, X, y=None):\n",
    "        return self\n",
    "    def predict(self, X):\n",
    "        return np.zeros((len(X), 1), dtype=bool)"
   ]
  },
  {
   "cell_type": "code",
   "execution_count": 15,
   "metadata": {},
   "outputs": [
    {
     "output_type": "execute_result",
     "data": {
      "text/plain": [
       "array([0.91125, 0.90855, 0.90915])"
      ]
     },
     "metadata": {},
     "execution_count": 15
    }
   ],
   "source": [
    "never_5_clf = Never5Classifier()\n",
    "cross_val_score(never_5_clf, X_train, y_train_5, cv=3, scoring=\"accuracy\")"
   ]
  },
  {
   "cell_type": "code",
   "execution_count": 16,
   "metadata": {},
   "outputs": [],
   "source": [
    "from sklearn.model_selection import cross_val_predict\n",
    "\n",
    "y_train_pred = cross_val_predict(sgd_clf, X_train, y_train_5, cv=3)"
   ]
  },
  {
   "cell_type": "code",
   "execution_count": 17,
   "metadata": {},
   "outputs": [
    {
     "output_type": "execute_result",
     "data": {
      "text/plain": [
       "array([[53892,   687],\n",
       "       [ 1891,  3530]])"
      ]
     },
     "metadata": {},
     "execution_count": 17
    }
   ],
   "source": [
    "from sklearn.metrics import confusion_matrix\n",
    "confusion_matrix(y_train_5, y_train_pred)"
   ]
  },
  {
   "cell_type": "code",
   "execution_count": 18,
   "metadata": {},
   "outputs": [
    {
     "output_type": "execute_result",
     "data": {
      "text/plain": [
       "array([[54579,     0],\n",
       "       [    0,  5421]])"
      ]
     },
     "metadata": {},
     "execution_count": 18
    }
   ],
   "source": [
    "y_train_perfect_predictions = y_train_5\n",
    "confusion_matrix(y_train_5, y_train_perfect_predictions)"
   ]
  },
  {
   "cell_type": "code",
   "execution_count": 21,
   "metadata": {},
   "outputs": [
    {
     "output_type": "execute_result",
     "data": {
      "text/plain": [
       "0.6511713705958311"
      ]
     },
     "metadata": {},
     "execution_count": 21
    }
   ],
   "source": [
    "from sklearn.metrics import precision_score, recall_score\n",
    "precision_score(y_train_5, y_train_pred)\n",
    "recall_score(y_train_5, y_train_pred)"
   ]
  },
  {
   "cell_type": "code",
   "execution_count": 22,
   "metadata": {},
   "outputs": [
    {
     "output_type": "execute_result",
     "data": {
      "text/plain": [
       "0.7325171197343846"
      ]
     },
     "metadata": {},
     "execution_count": 22
    }
   ],
   "source": [
    "from sklearn.metrics import f1_score\n",
    "f1_score(y_train_5, y_train_pred)"
   ]
  },
  {
   "cell_type": "code",
   "execution_count": 25,
   "metadata": {},
   "outputs": [],
   "source": [
    "y_scores = sgd_clf.decision_function([some_digit])\n",
    "y_scores\n",
    "threshold = 0\n",
    "y_some_digit_pred = (y_scores > threshold)"
   ]
  },
  {
   "cell_type": "code",
   "execution_count": 26,
   "metadata": {},
   "outputs": [
    {
     "output_type": "execute_result",
     "data": {
      "text/plain": [
       "array([False])"
      ]
     },
     "metadata": {},
     "execution_count": 26
    }
   ],
   "source": [
    "threshold = 8000\n",
    "y_some_digit_pred = (y_scores > threshold)\n",
    "y_some_digit_pred"
   ]
  },
  {
   "cell_type": "code",
   "execution_count": 27,
   "metadata": {},
   "outputs": [],
   "source": [
    "y_scores = cross_val_predict(sgd_clf, X_train, y_train_5, cv=3,\n",
    "                             method=\"decision_function\")"
   ]
  },
  {
   "cell_type": "code",
   "execution_count": 28,
   "metadata": {},
   "outputs": [],
   "source": [
    "from sklearn.metrics import precision_recall_curve\n",
    "\n",
    "precisions, recalls, thresholds = precision_recall_curve(y_train_5, y_scores)"
   ]
  },
  {
   "cell_type": "code",
   "execution_count": 29,
   "metadata": {},
   "outputs": [
    {
     "output_type": "display_data",
     "data": {
      "text/plain": "<Figure size 432x288 with 1 Axes>",
      "image/svg+xml": "<?xml version=\"1.0\" encoding=\"utf-8\" standalone=\"no\"?>\n<!DOCTYPE svg PUBLIC \"-//W3C//DTD SVG 1.1//EN\"\n  \"http://www.w3.org/Graphics/SVG/1.1/DTD/svg11.dtd\">\n<!-- Created with matplotlib (https://matplotlib.org/) -->\n<svg height=\"248.518125pt\" version=\"1.1\" viewBox=\"0 0 372.103125 248.518125\" width=\"372.103125pt\" xmlns=\"http://www.w3.org/2000/svg\" xmlns:xlink=\"http://www.w3.org/1999/xlink\">\n <metadata>\n  <rdf:RDF xmlns:cc=\"http://creativecommons.org/ns#\" xmlns:dc=\"http://purl.org/dc/elements/1.1/\" xmlns:rdf=\"http://www.w3.org/1999/02/22-rdf-syntax-ns#\">\n   <cc:Work>\n    <dc:type rdf:resource=\"http://purl.org/dc/dcmitype/StillImage\"/>\n    <dc:date>2020-11-02T19:40:50.981817</dc:date>\n    <dc:format>image/svg+xml</dc:format>\n    <dc:creator>\n     <cc:Agent>\n      <dc:title>Matplotlib v3.3.2, https://matplotlib.org/</dc:title>\n     </cc:Agent>\n    </dc:creator>\n   </cc:Work>\n  </rdf:RDF>\n </metadata>\n <defs>\n  <style type=\"text/css\">*{stroke-linecap:butt;stroke-linejoin:round;}</style>\n </defs>\n <g id=\"figure_1\">\n  <g id=\"patch_1\">\n   <path d=\"M 0 248.518125 \nL 372.103125 248.518125 \nL 372.103125 0 \nL 0 0 \nz\n\" style=\"fill:none;\"/>\n  </g>\n  <g id=\"axes_1\">\n   <g id=\"patch_2\">\n    <path d=\"M 30.103125 224.64 \nL 364.903125 224.64 \nL 364.903125 7.2 \nL 30.103125 7.2 \nz\n\" style=\"fill:#ffffff;\"/>\n   </g>\n   <g id=\"matplotlib.axis_1\">\n    <g id=\"xtick_1\">\n     <g id=\"line2d_1\">\n      <defs>\n       <path d=\"M 0 0 \nL 0 3.5 \n\" id=\"md8dbd2f839\" style=\"stroke:#000000;stroke-width:0.8;\"/>\n      </defs>\n      <g>\n       <use style=\"stroke:#000000;stroke-width:0.8;\" x=\"58.059227\" xlink:href=\"#md8dbd2f839\" y=\"224.64\"/>\n      </g>\n     </g>\n     <g id=\"text_1\">\n      <!-- −100000 -->\n      <g transform=\"translate(34.781884 239.238438)scale(0.1 -0.1)\">\n       <defs>\n        <path d=\"M 10.59375 35.5 \nL 73.1875 35.5 \nL 73.1875 27.203125 \nL 10.59375 27.203125 \nz\n\" id=\"DejaVuSans-8722\"/>\n        <path d=\"M 12.40625 8.296875 \nL 28.515625 8.296875 \nL 28.515625 63.921875 \nL 10.984375 60.40625 \nL 10.984375 69.390625 \nL 28.421875 72.90625 \nL 38.28125 72.90625 \nL 38.28125 8.296875 \nL 54.390625 8.296875 \nL 54.390625 0 \nL 12.40625 0 \nz\n\" id=\"DejaVuSans-49\"/>\n        <path d=\"M 31.78125 66.40625 \nQ 24.171875 66.40625 20.328125 58.90625 \nQ 16.5 51.421875 16.5 36.375 \nQ 16.5 21.390625 20.328125 13.890625 \nQ 24.171875 6.390625 31.78125 6.390625 \nQ 39.453125 6.390625 43.28125 13.890625 \nQ 47.125 21.390625 47.125 36.375 \nQ 47.125 51.421875 43.28125 58.90625 \nQ 39.453125 66.40625 31.78125 66.40625 \nz\nM 31.78125 74.21875 \nQ 44.046875 74.21875 50.515625 64.515625 \nQ 56.984375 54.828125 56.984375 36.375 \nQ 56.984375 17.96875 50.515625 8.265625 \nQ 44.046875 -1.421875 31.78125 -1.421875 \nQ 19.53125 -1.421875 13.0625 8.265625 \nQ 6.59375 17.96875 6.59375 36.375 \nQ 6.59375 54.828125 13.0625 64.515625 \nQ 19.53125 74.21875 31.78125 74.21875 \nz\n\" id=\"DejaVuSans-48\"/>\n       </defs>\n       <use xlink:href=\"#DejaVuSans-8722\"/>\n       <use x=\"83.789062\" xlink:href=\"#DejaVuSans-49\"/>\n       <use x=\"147.412109\" xlink:href=\"#DejaVuSans-48\"/>\n       <use x=\"211.035156\" xlink:href=\"#DejaVuSans-48\"/>\n       <use x=\"274.658203\" xlink:href=\"#DejaVuSans-48\"/>\n       <use x=\"338.28125\" xlink:href=\"#DejaVuSans-48\"/>\n       <use x=\"401.904297\" xlink:href=\"#DejaVuSans-48\"/>\n      </g>\n     </g>\n    </g>\n    <g id=\"xtick_2\">\n     <g id=\"line2d_2\">\n      <g>\n       <use style=\"stroke:#000000;stroke-width:0.8;\" x=\"97.087989\" xlink:href=\"#md8dbd2f839\" y=\"224.64\"/>\n      </g>\n     </g>\n     <g id=\"text_2\">\n      <!-- −80000 -->\n      <g transform=\"translate(76.991896 239.238438)scale(0.1 -0.1)\">\n       <defs>\n        <path d=\"M 31.78125 34.625 \nQ 24.75 34.625 20.71875 30.859375 \nQ 16.703125 27.09375 16.703125 20.515625 \nQ 16.703125 13.921875 20.71875 10.15625 \nQ 24.75 6.390625 31.78125 6.390625 \nQ 38.8125 6.390625 42.859375 10.171875 \nQ 46.921875 13.96875 46.921875 20.515625 \nQ 46.921875 27.09375 42.890625 30.859375 \nQ 38.875 34.625 31.78125 34.625 \nz\nM 21.921875 38.8125 \nQ 15.578125 40.375 12.03125 44.71875 \nQ 8.5 49.078125 8.5 55.328125 \nQ 8.5 64.0625 14.71875 69.140625 \nQ 20.953125 74.21875 31.78125 74.21875 \nQ 42.671875 74.21875 48.875 69.140625 \nQ 55.078125 64.0625 55.078125 55.328125 \nQ 55.078125 49.078125 51.53125 44.71875 \nQ 48 40.375 41.703125 38.8125 \nQ 48.828125 37.15625 52.796875 32.3125 \nQ 56.78125 27.484375 56.78125 20.515625 \nQ 56.78125 9.90625 50.3125 4.234375 \nQ 43.84375 -1.421875 31.78125 -1.421875 \nQ 19.734375 -1.421875 13.25 4.234375 \nQ 6.78125 9.90625 6.78125 20.515625 \nQ 6.78125 27.484375 10.78125 32.3125 \nQ 14.796875 37.15625 21.921875 38.8125 \nz\nM 18.3125 54.390625 \nQ 18.3125 48.734375 21.84375 45.5625 \nQ 25.390625 42.390625 31.78125 42.390625 \nQ 38.140625 42.390625 41.71875 45.5625 \nQ 45.3125 48.734375 45.3125 54.390625 \nQ 45.3125 60.0625 41.71875 63.234375 \nQ 38.140625 66.40625 31.78125 66.40625 \nQ 25.390625 66.40625 21.84375 63.234375 \nQ 18.3125 60.0625 18.3125 54.390625 \nz\n\" id=\"DejaVuSans-56\"/>\n       </defs>\n       <use xlink:href=\"#DejaVuSans-8722\"/>\n       <use x=\"83.789062\" xlink:href=\"#DejaVuSans-56\"/>\n       <use x=\"147.412109\" xlink:href=\"#DejaVuSans-48\"/>\n       <use x=\"211.035156\" xlink:href=\"#DejaVuSans-48\"/>\n       <use x=\"274.658203\" xlink:href=\"#DejaVuSans-48\"/>\n       <use x=\"338.28125\" xlink:href=\"#DejaVuSans-48\"/>\n      </g>\n     </g>\n    </g>\n    <g id=\"xtick_3\">\n     <g id=\"line2d_3\">\n      <g>\n       <use style=\"stroke:#000000;stroke-width:0.8;\" x=\"136.116752\" xlink:href=\"#md8dbd2f839\" y=\"224.64\"/>\n      </g>\n     </g>\n     <g id=\"text_3\">\n      <!-- −60000 -->\n      <g transform=\"translate(116.020658 239.238438)scale(0.1 -0.1)\">\n       <defs>\n        <path d=\"M 33.015625 40.375 \nQ 26.375 40.375 22.484375 35.828125 \nQ 18.609375 31.296875 18.609375 23.390625 \nQ 18.609375 15.53125 22.484375 10.953125 \nQ 26.375 6.390625 33.015625 6.390625 \nQ 39.65625 6.390625 43.53125 10.953125 \nQ 47.40625 15.53125 47.40625 23.390625 \nQ 47.40625 31.296875 43.53125 35.828125 \nQ 39.65625 40.375 33.015625 40.375 \nz\nM 52.59375 71.296875 \nL 52.59375 62.3125 \nQ 48.875 64.0625 45.09375 64.984375 \nQ 41.3125 65.921875 37.59375 65.921875 \nQ 27.828125 65.921875 22.671875 59.328125 \nQ 17.53125 52.734375 16.796875 39.40625 \nQ 19.671875 43.65625 24.015625 45.921875 \nQ 28.375 48.1875 33.59375 48.1875 \nQ 44.578125 48.1875 50.953125 41.515625 \nQ 57.328125 34.859375 57.328125 23.390625 \nQ 57.328125 12.15625 50.6875 5.359375 \nQ 44.046875 -1.421875 33.015625 -1.421875 \nQ 20.359375 -1.421875 13.671875 8.265625 \nQ 6.984375 17.96875 6.984375 36.375 \nQ 6.984375 53.65625 15.1875 63.9375 \nQ 23.390625 74.21875 37.203125 74.21875 \nQ 40.921875 74.21875 44.703125 73.484375 \nQ 48.484375 72.75 52.59375 71.296875 \nz\n\" id=\"DejaVuSans-54\"/>\n       </defs>\n       <use xlink:href=\"#DejaVuSans-8722\"/>\n       <use x=\"83.789062\" xlink:href=\"#DejaVuSans-54\"/>\n       <use x=\"147.412109\" xlink:href=\"#DejaVuSans-48\"/>\n       <use x=\"211.035156\" xlink:href=\"#DejaVuSans-48\"/>\n       <use x=\"274.658203\" xlink:href=\"#DejaVuSans-48\"/>\n       <use x=\"338.28125\" xlink:href=\"#DejaVuSans-48\"/>\n      </g>\n     </g>\n    </g>\n    <g id=\"xtick_4\">\n     <g id=\"line2d_4\">\n      <g>\n       <use style=\"stroke:#000000;stroke-width:0.8;\" x=\"175.145514\" xlink:href=\"#md8dbd2f839\" y=\"224.64\"/>\n      </g>\n     </g>\n     <g id=\"text_4\">\n      <!-- −40000 -->\n      <g transform=\"translate(155.04942 239.238438)scale(0.1 -0.1)\">\n       <defs>\n        <path d=\"M 37.796875 64.3125 \nL 12.890625 25.390625 \nL 37.796875 25.390625 \nz\nM 35.203125 72.90625 \nL 47.609375 72.90625 \nL 47.609375 25.390625 \nL 58.015625 25.390625 \nL 58.015625 17.1875 \nL 47.609375 17.1875 \nL 47.609375 0 \nL 37.796875 0 \nL 37.796875 17.1875 \nL 4.890625 17.1875 \nL 4.890625 26.703125 \nz\n\" id=\"DejaVuSans-52\"/>\n       </defs>\n       <use xlink:href=\"#DejaVuSans-8722\"/>\n       <use x=\"83.789062\" xlink:href=\"#DejaVuSans-52\"/>\n       <use x=\"147.412109\" xlink:href=\"#DejaVuSans-48\"/>\n       <use x=\"211.035156\" xlink:href=\"#DejaVuSans-48\"/>\n       <use x=\"274.658203\" xlink:href=\"#DejaVuSans-48\"/>\n       <use x=\"338.28125\" xlink:href=\"#DejaVuSans-48\"/>\n      </g>\n     </g>\n    </g>\n    <g id=\"xtick_5\">\n     <g id=\"line2d_5\">\n      <g>\n       <use style=\"stroke:#000000;stroke-width:0.8;\" x=\"214.174276\" xlink:href=\"#md8dbd2f839\" y=\"224.64\"/>\n      </g>\n     </g>\n     <g id=\"text_5\">\n      <!-- −20000 -->\n      <g transform=\"translate(194.078182 239.238438)scale(0.1 -0.1)\">\n       <defs>\n        <path d=\"M 19.1875 8.296875 \nL 53.609375 8.296875 \nL 53.609375 0 \nL 7.328125 0 \nL 7.328125 8.296875 \nQ 12.9375 14.109375 22.625 23.890625 \nQ 32.328125 33.6875 34.8125 36.53125 \nQ 39.546875 41.84375 41.421875 45.53125 \nQ 43.3125 49.21875 43.3125 52.78125 \nQ 43.3125 58.59375 39.234375 62.25 \nQ 35.15625 65.921875 28.609375 65.921875 \nQ 23.96875 65.921875 18.8125 64.3125 \nQ 13.671875 62.703125 7.8125 59.421875 \nL 7.8125 69.390625 \nQ 13.765625 71.78125 18.9375 73 \nQ 24.125 74.21875 28.421875 74.21875 \nQ 39.75 74.21875 46.484375 68.546875 \nQ 53.21875 62.890625 53.21875 53.421875 \nQ 53.21875 48.921875 51.53125 44.890625 \nQ 49.859375 40.875 45.40625 35.40625 \nQ 44.1875 33.984375 37.640625 27.21875 \nQ 31.109375 20.453125 19.1875 8.296875 \nz\n\" id=\"DejaVuSans-50\"/>\n       </defs>\n       <use xlink:href=\"#DejaVuSans-8722\"/>\n       <use x=\"83.789062\" xlink:href=\"#DejaVuSans-50\"/>\n       <use x=\"147.412109\" xlink:href=\"#DejaVuSans-48\"/>\n       <use x=\"211.035156\" xlink:href=\"#DejaVuSans-48\"/>\n       <use x=\"274.658203\" xlink:href=\"#DejaVuSans-48\"/>\n       <use x=\"338.28125\" xlink:href=\"#DejaVuSans-48\"/>\n      </g>\n     </g>\n    </g>\n    <g id=\"xtick_6\">\n     <g id=\"line2d_6\">\n      <g>\n       <use style=\"stroke:#000000;stroke-width:0.8;\" x=\"253.203038\" xlink:href=\"#md8dbd2f839\" y=\"224.64\"/>\n      </g>\n     </g>\n     <g id=\"text_6\">\n      <!-- 0 -->\n      <g transform=\"translate(250.021788 239.238438)scale(0.1 -0.1)\">\n       <use xlink:href=\"#DejaVuSans-48\"/>\n      </g>\n     </g>\n    </g>\n    <g id=\"xtick_7\">\n     <g id=\"line2d_7\">\n      <g>\n       <use style=\"stroke:#000000;stroke-width:0.8;\" x=\"292.2318\" xlink:href=\"#md8dbd2f839\" y=\"224.64\"/>\n      </g>\n     </g>\n     <g id=\"text_7\">\n      <!-- 20000 -->\n      <g transform=\"translate(276.32555 239.238438)scale(0.1 -0.1)\">\n       <use xlink:href=\"#DejaVuSans-50\"/>\n       <use x=\"63.623047\" xlink:href=\"#DejaVuSans-48\"/>\n       <use x=\"127.246094\" xlink:href=\"#DejaVuSans-48\"/>\n       <use x=\"190.869141\" xlink:href=\"#DejaVuSans-48\"/>\n       <use x=\"254.492188\" xlink:href=\"#DejaVuSans-48\"/>\n      </g>\n     </g>\n    </g>\n    <g id=\"xtick_8\">\n     <g id=\"line2d_8\">\n      <g>\n       <use style=\"stroke:#000000;stroke-width:0.8;\" x=\"331.260562\" xlink:href=\"#md8dbd2f839\" y=\"224.64\"/>\n      </g>\n     </g>\n     <g id=\"text_8\">\n      <!-- 40000 -->\n      <g transform=\"translate(315.354312 239.238438)scale(0.1 -0.1)\">\n       <use xlink:href=\"#DejaVuSans-52\"/>\n       <use x=\"63.623047\" xlink:href=\"#DejaVuSans-48\"/>\n       <use x=\"127.246094\" xlink:href=\"#DejaVuSans-48\"/>\n       <use x=\"190.869141\" xlink:href=\"#DejaVuSans-48\"/>\n       <use x=\"254.492188\" xlink:href=\"#DejaVuSans-48\"/>\n      </g>\n     </g>\n    </g>\n   </g>\n   <g id=\"matplotlib.axis_2\">\n    <g id=\"ytick_1\">\n     <g id=\"line2d_9\">\n      <defs>\n       <path d=\"M 0 0 \nL -3.5 0 \n\" id=\"m9b80f7858c\" style=\"stroke:#000000;stroke-width:0.8;\"/>\n      </defs>\n      <g>\n       <use style=\"stroke:#000000;stroke-width:0.8;\" x=\"30.103125\" xlink:href=\"#m9b80f7858c\" y=\"214.792835\"/>\n      </g>\n     </g>\n     <g id=\"text_9\">\n      <!-- 0.0 -->\n      <g transform=\"translate(7.2 218.592053)scale(0.1 -0.1)\">\n       <defs>\n        <path d=\"M 10.6875 12.40625 \nL 21 12.40625 \nL 21 0 \nL 10.6875 0 \nz\n\" id=\"DejaVuSans-46\"/>\n       </defs>\n       <use xlink:href=\"#DejaVuSans-48\"/>\n       <use x=\"63.623047\" xlink:href=\"#DejaVuSans-46\"/>\n       <use x=\"95.410156\" xlink:href=\"#DejaVuSans-48\"/>\n      </g>\n     </g>\n    </g>\n    <g id=\"ytick_2\">\n     <g id=\"line2d_10\">\n      <g>\n       <use style=\"stroke:#000000;stroke-width:0.8;\" x=\"30.103125\" xlink:href=\"#m9b80f7858c\" y=\"175.250995\"/>\n      </g>\n     </g>\n     <g id=\"text_10\">\n      <!-- 0.2 -->\n      <g transform=\"translate(7.2 179.050214)scale(0.1 -0.1)\">\n       <use xlink:href=\"#DejaVuSans-48\"/>\n       <use x=\"63.623047\" xlink:href=\"#DejaVuSans-46\"/>\n       <use x=\"95.410156\" xlink:href=\"#DejaVuSans-50\"/>\n      </g>\n     </g>\n    </g>\n    <g id=\"ytick_3\">\n     <g id=\"line2d_11\">\n      <g>\n       <use style=\"stroke:#000000;stroke-width:0.8;\" x=\"30.103125\" xlink:href=\"#m9b80f7858c\" y=\"135.709155\"/>\n      </g>\n     </g>\n     <g id=\"text_11\">\n      <!-- 0.4 -->\n      <g transform=\"translate(7.2 139.508374)scale(0.1 -0.1)\">\n       <use xlink:href=\"#DejaVuSans-48\"/>\n       <use x=\"63.623047\" xlink:href=\"#DejaVuSans-46\"/>\n       <use x=\"95.410156\" xlink:href=\"#DejaVuSans-52\"/>\n      </g>\n     </g>\n    </g>\n    <g id=\"ytick_4\">\n     <g id=\"line2d_12\">\n      <g>\n       <use style=\"stroke:#000000;stroke-width:0.8;\" x=\"30.103125\" xlink:href=\"#m9b80f7858c\" y=\"96.167316\"/>\n      </g>\n     </g>\n     <g id=\"text_12\">\n      <!-- 0.6 -->\n      <g transform=\"translate(7.2 99.966534)scale(0.1 -0.1)\">\n       <use xlink:href=\"#DejaVuSans-48\"/>\n       <use x=\"63.623047\" xlink:href=\"#DejaVuSans-46\"/>\n       <use x=\"95.410156\" xlink:href=\"#DejaVuSans-54\"/>\n      </g>\n     </g>\n    </g>\n    <g id=\"ytick_5\">\n     <g id=\"line2d_13\">\n      <g>\n       <use style=\"stroke:#000000;stroke-width:0.8;\" x=\"30.103125\" xlink:href=\"#m9b80f7858c\" y=\"56.625476\"/>\n      </g>\n     </g>\n     <g id=\"text_13\">\n      <!-- 0.8 -->\n      <g transform=\"translate(7.2 60.424695)scale(0.1 -0.1)\">\n       <use xlink:href=\"#DejaVuSans-48\"/>\n       <use x=\"63.623047\" xlink:href=\"#DejaVuSans-46\"/>\n       <use x=\"95.410156\" xlink:href=\"#DejaVuSans-56\"/>\n      </g>\n     </g>\n    </g>\n    <g id=\"ytick_6\">\n     <g id=\"line2d_14\">\n      <g>\n       <use style=\"stroke:#000000;stroke-width:0.8;\" x=\"30.103125\" xlink:href=\"#m9b80f7858c\" y=\"17.083636\"/>\n      </g>\n     </g>\n     <g id=\"text_14\">\n      <!-- 1.0 -->\n      <g transform=\"translate(7.2 20.882855)scale(0.1 -0.1)\">\n       <use xlink:href=\"#DejaVuSans-49\"/>\n       <use x=\"63.623047\" xlink:href=\"#DejaVuSans-46\"/>\n       <use x=\"95.410156\" xlink:href=\"#DejaVuSans-48\"/>\n      </g>\n     </g>\n    </g>\n   </g>\n   <g id=\"line2d_15\">\n    <path clip-path=\"url(#pa4bdfe9267)\" d=\"M 45.321307 196.91968 \nL 86.845527 196.892231 \nL 130.847803 196.766643 \nL 136.230585 196.730151 \nL 158.969163 196.434414 \nL 168.47784 196.155394 \nL 169.774469 196.105556 \nL 172.979426 195.970017 \nL 179.623064 195.596283 \nL 179.749911 195.588099 \nL 181.821496 195.431799 \nL 183.58906 195.27466 \nL 185.752055 195.060305 \nL 187.322194 194.912039 \nL 187.485146 194.891627 \nL 192.190007 194.287262 \nL 193.754848 194.028221 \nL 195.107357 193.788744 \nL 200.110736 192.669253 \nL 200.419047 192.600396 \nL 201.505473 192.30153 \nL 201.863627 192.191009 \nL 204.460936 191.336181 \nL 204.647467 191.272499 \nL 205.082457 191.123796 \nL 205.19379 191.078329 \nL 205.409609 191.000373 \nL 205.771678 190.85065 \nL 205.775107 190.85295 \nL 205.90789 190.798826 \nL 206.298908 190.641025 \nL 206.896278 190.372664 \nL 207.311813 190.190368 \nL 208.007617 189.871897 \nL 208.174083 189.788477 \nL 208.610109 189.585252 \nL 209.058346 189.351737 \nL 210.963366 188.321992 \nL 211.578732 187.974031 \nL 211.860548 187.802472 \nL 213.341027 186.788699 \nL 213.689285 186.533569 \nL 213.858596 186.390887 \nL 215.146082 185.371036 \nL 215.537427 185.027823 \nL 216.444746 184.209917 \nL 216.561456 184.093792 \nL 217.027099 183.648384 \nL 217.21355 183.468381 \nL 218.108636 182.552181 \nL 218.261206 182.394547 \nL 218.414707 182.227385 \nL 219.657535 180.76281 \nL 219.784244 180.594695 \nL 219.787124 180.596675 \nL 220.300357 179.949593 \nL 220.505292 179.644826 \nL 220.62646 179.459383 \nL 221.335331 178.422061 \nL 221.473945 178.211884 \nL 222.016325 177.352934 \nL 222.129592 177.156899 \nL 222.353771 176.817788 \nL 222.494476 176.598767 \nL 223.322134 175.256966 \nL 223.450205 175.040826 \nL 223.652888 174.664415 \nL 223.751152 174.475874 \nL 223.944064 174.085286 \nL 224.037271 173.929537 \nL 224.594134 172.857402 \nL 224.679231 172.69996 \nL 224.840801 172.358355 \nL 224.937584 172.145404 \nL 225.082718 171.844373 \nL 225.285063 171.413878 \nL 225.551559 170.89162 \nL 225.554154 170.898085 \nL 225.610758 170.775975 \nL 228.260002 164.307326 \nL 228.380821 163.969695 \nL 228.704727 163.042717 \nL 229.009255 162.076435 \nL 229.109609 161.837186 \nL 229.249982 161.426993 \nL 229.253834 161.433644 \nL 229.397004 160.955655 \nL 231.014173 155.581593 \nL 231.014843 155.589584 \nL 231.09664 155.249474 \nL 231.257047 154.634589 \nL 231.403671 154.092539 \nL 231.457697 153.920388 \nL 231.613854 153.395556 \nL 231.703017 153.118906 \nL 231.83509 152.630256 \nL 231.910478 152.324023 \nL 231.913498 152.324653 \nL 232.09068 151.698311 \nL 232.257113 151.071444 \nL 232.39044 150.55447 \nL 232.539265 149.989342 \nL 232.75297 149.060116 \nL 232.840299 148.722698 \nL 232.973228 148.168076 \nL 232.977837 148.176672 \nL 233.018952 148.02325 \nL 235.302222 137.578162 \nL 235.639003 135.82462 \nL 235.639699 135.833991 \nL 235.714668 135.363675 \nL 241.010031 105.620997 \nL 241.145753 104.676319 \nL 241.302914 103.714778 \nL 241.451095 102.883293 \nL 241.895314 100.150468 \nL 242.02781 99.43206 \nL 242.094086 99.146997 \nL 242.315465 97.743833 \nL 242.316147 97.753947 \nL 242.410673 97.284542 \nL 243.067658 93.467735 \nL 243.077385 93.477784 \nL 243.10701 93.354062 \nL 243.273137 92.265854 \nL 243.331431 91.951847 \nL 243.438031 91.307842 \nL 243.443132 91.317845 \nL 243.447097 91.327851 \nL 243.475924 91.107713 \nL 243.593993 90.387006 \nL 244.382611 86.465181 \nL 244.384101 86.47508 \nL 244.385754 86.484982 \nL 244.422084 86.053937 \nL 244.584742 84.980008 \nL 244.739867 84.065029 \nL 244.740565 84.074816 \nL 244.745388 84.084605 \nL 244.770486 83.893316 \nL 244.778589 83.903095 \nL 246.908826 72.719236 \nL 247.03854 71.9511 \nL 247.42801 70.026828 \nL 247.444044 70.045116 \nL 247.448748 70.054265 \nL 247.477958 69.888169 \nL 247.485251 69.897305 \nL 249.973969 58.591864 \nL 250.03411 58.627192 \nL 250.040425 58.635539 \nL 250.068477 58.497043 \nL 251.127823 54.886542 \nL 251.136154 54.902612 \nL 251.212681 54.890889 \nL 251.218631 54.822759 \nL 251.507527 53.969999 \nL 251.521913 54.025839 \nL 251.53368 54.065829 \nL 251.601538 53.855741 \nL 251.725996 53.515152 \nL 251.755788 53.547109 \nL 251.75762 53.555107 \nL 251.821403 53.382489 \nL 252.093414 52.629836 \nL 252.1082 52.661581 \nL 252.113254 52.669526 \nL 252.134235 52.524579 \nL 252.675538 50.901116 \nL 252.676709 50.908913 \nL 252.802958 50.334102 \nL 252.821077 50.349578 \nL 253.300675 49.194288 \nL 253.320065 49.22495 \nL 253.325853 49.240303 \nL 253.354177 49.136921 \nL 253.375255 49.150988 \nL 253.555008 48.690371 \nL 253.573575 48.736234 \nL 253.600281 48.598329 \nL 253.637751 48.586487 \nL 253.806771 48.175785 \nL 253.823005 48.191048 \nL 253.859082 48.091126 \nL 254.195991 47.134244 \nL 253.920799 48.108322 \nL 254.201027 47.141783 \nL 254.205839 47.164423 \nL 254.236996 46.976272 \nL 254.245691 46.99885 \nL 254.362637 46.732491 \nL 254.367854 46.747545 \nL 254.422475 46.593975 \nL 254.429259 46.609016 \nL 254.550605 46.233069 \nL 254.583479 46.248026 \nL 254.605164 46.270488 \nL 254.677049 46.020424 \nL 254.68741 46.04285 \nL 254.758594 46.096705 \nL 254.697784 46.014196 \nL 254.781449 46.024199 \nL 255.035657 45.231183 \nL 255.074994 45.260843 \nL 255.214105 45.32031 \nL 255.100686 45.231004 \nL 255.227375 45.275309 \nL 255.46759 44.780999 \nL 255.475976 44.810821 \nL 255.481307 44.818287 \nL 255.488914 44.680878 \nL 255.516807 44.687108 \nL 255.71715 44.117563 \nL 255.555218 44.708317 \nL 255.747478 44.191548 \nL 255.759458 44.213822 \nL 255.783239 44.063722 \nL 255.891383 43.612955 \nL 255.892257 43.620312 \nL 255.919516 43.657158 \nL 255.952953 43.525658 \nL 256.066611 43.400446 \nL 256.032741 43.611005 \nL 256.067734 43.407839 \nL 256.096394 43.43745 \nL 256.12462 43.314913 \nL 256.13897 43.366739 \nL 256.850947 41.556924 \nL 256.881182 41.585809 \nL 257.003664 41.555211 \nL 257.081326 41.216048 \nL 257.141886 41.236283 \nL 257.14512 41.25072 \nL 257.163405 41.102169 \nL 257.225743 41.152582 \nL 257.352935 40.729919 \nL 257.362232 40.758521 \nL 257.369628 40.780017 \nL 257.413806 40.643283 \nL 257.42222 40.671892 \nL 257.552212 40.21531 \nL 257.564079 40.229488 \nL 257.716895 40.217871 \nL 257.852421 39.770567 \nL 257.946443 39.717845 \nL 258.026154 39.540721 \nL 258.061716 39.568943 \nL 258.230519 39.600344 \nL 258.23531 39.544903 \nL 258.309293 39.630524 \nL 258.33636 39.596325 \nL 258.364805 39.63937 \nL 258.368186 39.527665 \nL 258.501161 39.256037 \nL 258.505595 39.270296 \nL 258.542109 39.115 \nL 258.579519 39.143418 \nL 258.704789 38.88744 \nL 258.730038 38.958393 \nL 258.845985 38.993874 \nL 258.754688 38.922482 \nL 258.846751 38.936386 \nL 259.174596 38.245575 \nL 259.185766 38.259697 \nL 259.220504 38.302176 \nL 259.228737 38.132021 \nL 259.263949 38.188546 \nL 259.379732 37.743813 \nL 259.385767 37.757796 \nL 259.404151 37.651825 \nL 259.413985 37.665774 \nL 259.608896 37.193099 \nL 259.633214 37.213781 \nL 259.73264 37.249702 \nL 259.663621 37.187354 \nL 259.739417 37.195434 \nL 259.873981 36.607076 \nL 259.875315 36.613867 \nL 259.920501 36.572213 \nL 260.003582 36.626669 \nL 260.077457 36.375724 \nL 260.094276 36.389276 \nL 260.120124 36.39606 \nL 260.132709 36.340123 \nL 260.247483 36.126449 \nL 260.269548 36.15346 \nL 260.311667 36.200914 \nL 260.369805 36.121255 \nL 260.415335 36.020758 \nL 260.491433 36.102324 \nL 260.505664 36.115987 \nL 260.510807 35.994333 \nL 260.512594 36.007942 \nL 260.603761 35.661299 \nL 260.619805 35.694929 \nL 260.749466 35.659373 \nL 260.839081 35.386025 \nL 260.861552 35.406137 \nL 260.961598 35.381943 \nL 261.084688 35.037133 \nL 261.104415 35.0572 \nL 261.121162 34.996886 \nL 261.200624 35.036967 \nL 261.321824 34.745559 \nL 261.397445 34.798979 \nL 261.553599 34.763112 \nL 261.633444 34.533028 \nL 261.667376 34.580026 \nL 261.746412 34.661184 \nL 261.762981 34.535319 \nL 261.886409 34.34274 \nL 261.889048 34.349469 \nL 262.068197 34.434739 \nL 262.178436 34.214243 \nL 262.180111 34.221054 \nL 262.287912 33.962217 \nL 262.30607 33.99611 \nL 262.457713 34.053009 \nL 262.523147 33.968114 \nL 262.564616 34.002516 \nL 262.655683 34.071743 \nL 262.660634 33.997768 \nL 262.737107 33.613689 \nL 262.77039 33.647799 \nL 262.876567 33.778714 \nL 262.890265 33.710305 \nL 263.067849 33.725825 \nL 263.141041 33.482707 \nL 263.180483 33.496598 \nL 263.335835 33.566447 \nL 263.344812 33.495953 \nL 263.424377 33.325553 \nL 263.455971 33.381632 \nL 263.470447 33.24585 \nL 263.554753 33.337242 \nL 263.628096 33.386882 \nL 263.650694 33.328973 \nL 263.708791 33.053124 \nL 263.773612 33.109404 \nL 263.778172 33.116467 \nL 263.801708 32.970203 \nL 263.849425 33.026514 \nL 263.916701 32.974118 \nL 263.993996 32.868626 \nL 264.000935 32.87567 \nL 264.173691 32.96461 \nL 264.178358 32.88252 \nL 264.328961 32.368565 \nL 264.335953 32.382562 \nL 264.494679 32.446793 \nL 264.561827 32.320278 \nL 264.582192 32.341529 \nL 264.715174 32.470288 \nL 264.812807 32.528214 \nL 264.826334 32.464126 \nL 264.915952 32.125706 \nL 264.92618 32.132862 \nL 265.036457 32.117478 \nL 265.108597 31.978235 \nL 265.152665 32.014057 \nL 265.176681 32.028434 \nL 265.181615 31.940397 \nL 265.224068 31.976265 \nL 265.326444 31.789279 \nL 265.344357 31.817931 \nL 265.364783 31.750205 \nL 265.461901 31.843852 \nL 265.488829 31.671133 \nL 265.575124 31.735998 \nL 265.6379 31.794142 \nL 265.652823 31.725123 \nL 265.753964 31.453478 \nL 265.897525 31.462487 \nL 265.991463 31.270403 \nL 266.054653 31.0977 \nL 266.165529 31.176754 \nL 266.358773 31.264442 \nL 266.371526 31.183668 \nL 266.477327 30.918118 \nL 266.483642 30.932582 \nL 266.597443 30.790366 \nL 266.605952 30.797569 \nL 266.636597 30.729529 \nL 266.747434 30.823639 \nL 266.856411 30.707828 \nL 266.874362 30.751636 \nL 266.958466 30.840102 \nL 266.969442 30.748203 \nL 267.066336 30.59305 \nL 267.072886 30.60038 \nL 267.148709 30.56626 \nL 267.150597 30.4657 \nL 267.217078 30.517028 \nL 267.32721 30.467363 \nL 267.334191 30.365862 \nL 267.421367 30.446807 \nL 267.605378 30.463286 \nL 267.704275 29.997075 \nL 267.752259 30.026225 \nL 267.777007 29.929149 \nL 267.901817 30.024193 \nL 267.995337 29.879249 \nL 268.010999 29.893923 \nL 268.600198 30.155319 \nL 268.625653 30.061591 \nL 268.640899 29.850403 \nL 268.729334 29.964869 \nL 269.150042 30.126105 \nL 269.222868 29.71642 \nL 269.255179 29.739974 \nL 269.400858 29.719187 \nL 269.444057 29.486974 \nL 269.527025 29.581057 \nL 269.575295 29.620681 \nL 269.586507 29.503186 \nL 269.62029 29.518967 \nL 269.74082 29.582494 \nL 269.765462 29.472064 \nL 270.048846 29.708911 \nL 270.065434 29.611744 \nL 270.223889 29.22599 \nL 270.2381 29.234101 \nL 270.373966 29.033823 \nL 270.408514 29.074086 \nL 270.438494 29.090268 \nL 270.438538 28.964878 \nL 270.46588 28.997055 \nL 270.501933 28.745128 \nL 270.571139 28.792758 \nL 270.871504 28.866721 \nL 270.904646 28.519081 \nL 270.976928 28.559065 \nL 271.194455 28.647227 \nL 271.267749 28.194096 \nL 271.295824 28.226207 \nL 271.330634 28.250412 \nL 271.432766 28.027481 \nL 271.445361 28.051446 \nL 271.64789 28.140221 \nL 271.663183 28.002775 \nL 271.764839 28.091944 \nL 271.974467 28.257856 \nL 271.988189 28.266283 \nL 271.999764 28.125509 \nL 272.100715 28.201023 \nL 272.282493 28.185768 \nL 272.285441 28.042114 \nL 272.39176 28.161506 \nL 272.492858 28.274723 \nL 272.499855 28.127974 \nL 272.625341 27.745195 \nL 272.628953 27.753657 \nL 272.680135 27.77062 \nL 272.701388 27.621835 \nL 272.801522 27.672378 \nL 272.81175 27.689334 \nL 272.839091 27.539411 \nL 272.846299 27.564606 \nL 272.968114 27.623868 \nL 272.973051 27.472559 \nL 273.081656 27.523196 \nL 273.369253 27.540982 \nL 273.465603 27.247791 \nL 273.505793 27.264675 \nL 273.545796 27.332775 \nL 273.551992 27.175905 \nL 273.579375 27.2098 \nL 273.685876 26.768715 \nL 273.703294 26.776902 \nL 273.945628 26.926669 \nL 274.058455 26.539294 \nL 274.12169 26.564025 \nL 274.222029 25.944066 \nL 274.25934 25.983168 \nL 274.287478 25.998905 \nL 274.300495 25.831831 \nL 274.306728 25.83958 \nL 274.312987 25.672068 \nL 274.410671 25.748887 \nL 274.629361 25.898696 \nL 274.702333 25.086585 \nL 274.762812 25.101337 \nL 275.029516 25.213734 \nL 275.02981 25.036392 \nL 275.121776 25.096356 \nL 275.315768 25.19575 \nL 275.323893 25.014664 \nL 275.422475 25.098874 \nL 275.585551 25.184891 \nL 275.604439 24.999727 \nL 275.687245 25.077795 \nL 275.799979 24.905959 \nL 275.825577 24.913704 \nL 275.911703 24.96835 \nL 276.006428 24.604106 \nL 276.05384 24.649547 \nL 276.305804 24.797137 \nL 276.362865 24.844948 \nL 276.444583 24.299301 \nL 276.512189 24.329523 \nL 276.704771 24.460845 \nL 276.737663 24.257716 \nL 276.833276 24.288473 \nL 277.347122 24.594377 \nL 277.368949 24.381627 \nL 277.443462 24.39799 \nL 277.663969 24.531586 \nL 277.698163 24.314144 \nL 277.723067 24.330709 \nL 277.912987 24.144679 \nL 278.096313 24.210363 \nL 278.176411 23.829009 \nL 278.215894 23.852901 \nL 278.431394 23.958417 \nL 278.909137 24.20608 \nL 278.909746 23.969031 \nL 279.009747 24.064541 \nL 279.223377 24.226678 \nL 279.240539 23.980469 \nL 279.328433 24.016297 \nL 280.020232 24.436458 \nL 280.314578 24.655478 \nL 280.325577 24.385397 \nL 280.428652 24.479952 \nL 280.936379 24.699102 \nL 280.967962 24.733099 \nL 280.97327 24.449851 \nL 281.076555 24.538734 \nL 281.391678 24.746784 \nL 281.404204 24.451681 \nL 281.511148 24.532649 \nL 281.795415 24.724572 \nL 281.878365 24.774108 \nL 281.920905 24.465636 \nL 281.996509 24.526045 \nL 282.325926 24.700574 \nL 282.49033 24.751953 \nL 282.837962 24.93737 \nL 283.126791 25.131975 \nL 283.210962 24.18271 \nL 283.221198 24.195478 \nL 283.728691 24.419785 \nL 283.970426 24.572621 \nL 283.974287 24.211672 \nL 284.077126 24.279948 \nL 284.119034 24.307626 \nL 284.124991 23.940603 \nL 284.220892 24.03435 \nL 284.331544 24.102898 \nL 284.33984 23.72604 \nL 284.443433 23.832746 \nL 284.491304 23.887394 \nL 284.695232 24.013649 \nL 285.003307 24.219637 \nL 285.009403 23.814162 \nL 285.083859 23.842925 \nL 285.465009 24.005621 \nL 285.602723 24.09771 \nL 285.678096 23.262049 \nL 285.709295 23.275871 \nL 286.130185 23.59641 \nL 286.392432 23.851188 \nL 287.286564 24.254436 \nL 287.380498 24.406199 \nL 287.391117 23.901195 \nL 287.494427 23.919327 \nL 287.718701 24.106094 \nL 287.724992 23.583665 \nL 287.767532 23.619478 \nL 288.189208 23.766764 \nL 288.24091 22.700375 \nL 288.280003 22.716377 \nL 288.977007 23.038733 \nL 289.194901 23.166996 \nL 289.832755 23.608692 \nL 290.226552 23.924785 \nL 290.659764 24.069827 \nL 291.946328 24.960497 \nL 291.958102 24.201168 \nL 292.034316 24.3169 \nL 292.381955 24.623394 \nL 292.570018 24.922327 \nL 293.205745 25.32152 \nL 293.317343 25.556888 \nL 293.807679 25.892462 \nL 294.014205 26.025258 \nL 294.169004 26.208676 \nL 295.382651 27.251538 \nL 295.67448 27.550594 \nL 295.874264 27.738623 \nL 296.181136 28.067481 \nL 296.359845 28.345553 \nL 296.611953 28.790102 \nL 297.140833 29.188281 \nL 297.29531 29.355242 \nL 297.310323 28.067481 \nL 297.417754 28.222183 \nL 297.519697 28.381305 \nL 297.69644 28.628699 \nL 297.872148 29.066012 \nL 297.922179 29.157481 \nL 298.133408 29.344672 \nL 298.233054 29.636601 \nL 298.903573 30.602214 \nL 299.169774 30.83732 \nL 299.387396 31.332948 \nL 299.66297 31.594403 \nL 299.762351 31.865632 \nL 299.895571 32.147194 \nL 300.41632 34.275741 \nL 300.749378 34.464665 \nL 300.869663 35.0572 \nL 301.062135 35.47519 \nL 301.243549 36.139945 \nL 301.38066 36.610471 \nL 301.524808 37.624852 \nL 301.590269 38.172618 \nL 301.892037 39.360729 \nL 302.026169 40.343542 \nL 302.243839 40.690705 \nL 302.282425 41.048388 \nL 302.855897 41.797286 \nL 302.902566 42.189566 \nL 303.245574 42.594501 \nL 303.560976 43.444863 \nL 304.056819 43.891663 \nL 304.273637 44.353871 \nL 304.759691 44.832296 \nL 305.35019 45.841338 \nL 305.720676 48.717108 \nL 305.862799 45.327808 \nL 306.080451 46.529687 \nL 306.08417 47.169819 \nL 306.987946 49.268855 \nL 307.162079 50.838865 \nL 307.232853 42.430969 \nL 307.957023 44.543247 \nL 308.195898 46.158518 \nL 308.824231 48.972217 \nL 309.394552 50.035169 \nL 309.472774 53.696451 \nL 309.736912 55.104636 \nL 310.159836 48.717108 \nL 310.310291 41.797286 \nL 311.976926 42.871793 \nL 311.986905 44.043982 \nL 313.010708 45.327808 \nL 313.540021 46.740016 \nL 313.954645 48.300878 \nL 314.08133 50.035169 \nL 315.336022 54.154111 \nL 315.352219 43.444863 \nL 316.522653 47.500436 \nL 318.57363 50.035169 \nL 320.58656 56.625476 \nL 320.620242 61.019014 \nL 320.844194 41.797286 \nL 322.013047 45.327808 \nL 323.429837 50.035169 \nL 325.019096 17.083636 \nL 349.684943 17.083636 \nL 349.684943 17.083636 \n\" style=\"fill:none;stroke:#0000ff;stroke-dasharray:5.55,2.4;stroke-dashoffset:0;stroke-width:1.5;\"/>\n   </g>\n   <g id=\"line2d_16\">\n    <path clip-path=\"url(#pa4bdfe9267)\" d=\"M 45.321307 17.083636 \nL 51.355213 17.120107 \nL 140.180027 17.22952 \nL 140.279986 17.265991 \nL 156.478214 17.375404 \nL 156.592016 17.411875 \nL 167.495933 17.521288 \nL 167.632169 17.557759 \nL 178.021171 17.667172 \nL 178.137245 17.740114 \nL 180.562505 17.849527 \nL 180.67817 17.885998 \nL 186.418765 17.995411 \nL 186.536771 18.031882 \nL 187.808907 18.141295 \nL 187.919697 18.177766 \nL 191.439407 18.287179 \nL 191.550571 18.32365 \nL 195.787319 18.433063 \nL 195.898191 18.469534 \nL 197.400077 18.578947 \nL 197.515857 18.615418 \nL 200.604036 18.724831 \nL 200.71433 18.761302 \nL 204.520848 18.870715 \nL 204.631901 18.907186 \nL 206.515898 19.016598 \nL 206.627259 19.053069 \nL 209.098084 19.162482 \nL 209.209969 19.198953 \nL 211.23191 19.308366 \nL 211.352839 19.381308 \nL 211.790868 19.490721 \nL 211.900713 19.527192 \nL 213.226604 19.636605 \nL 213.341027 19.673076 \nL 214.06084 19.782489 \nL 214.172339 19.855431 \nL 215.9588 19.964844 \nL 216.067594 20.037786 \nL 217.138896 20.147199 \nL 217.248592 20.18367 \nL 217.691428 20.293083 \nL 217.803041 20.329554 \nL 218.367424 20.438967 \nL 218.481171 20.475438 \nL 219.204725 20.584851 \nL 219.315954 20.657793 \nL 220.376393 20.767206 \nL 220.489968 20.840148 \nL 221.507813 20.949561 \nL 221.617077 20.986032 \nL 221.807553 21.095444 \nL 221.919525 21.204857 \nL 222.667263 21.31427 \nL 222.778234 21.387212 \nL 223.094573 21.496625 \nL 223.205379 21.569567 \nL 223.771652 21.67898 \nL 223.882957 21.715451 \nL 224.649328 21.824864 \nL 224.758394 21.897806 \nL 225.038451 22.007219 \nL 225.150767 22.080161 \nL 225.82291 22.189574 \nL 225.940251 22.444871 \nL 226.254789 22.554284 \nL 226.366673 22.627226 \nL 226.503415 22.736639 \nL 226.617456 22.846052 \nL 227.052851 22.955465 \nL 227.16406 23.064878 \nL 227.430932 23.174291 \nL 227.544215 23.283703 \nL 227.7104 23.393116 \nL 227.82346 23.502529 \nL 227.909542 23.611942 \nL 228.021324 23.721355 \nL 228.30351 23.830768 \nL 228.418095 23.90371 \nL 228.563327 24.013123 \nL 228.673077 24.049594 \nL 228.778447 24.159007 \nL 228.888798 24.195478 \nL 229.115516 24.304891 \nL 229.22922 24.414304 \nL 229.36304 24.523717 \nL 229.474181 24.669601 \nL 229.973836 24.779014 \nL 230.085441 24.851956 \nL 230.346339 24.961369 \nL 230.458173 24.99784 \nL 230.525696 25.107253 \nL 230.63664 25.143724 \nL 230.821547 25.253137 \nL 230.941937 25.39902 \nL 231.103327 25.508433 \nL 231.216345 25.617846 \nL 231.429101 25.727259 \nL 231.541375 25.873143 \nL 231.754763 25.982556 \nL 231.868625 26.091969 \nL 231.939509 26.201382 \nL 232.049342 26.274324 \nL 232.163744 26.383737 \nL 232.278649 26.602563 \nL 232.399446 26.711976 \nL 232.512546 27.003744 \nL 232.624592 27.113157 \nL 232.782194 27.22257 \nL 232.895243 27.295512 \nL 233.005308 27.404925 \nL 233.126375 27.587279 \nL 233.279937 27.696692 \nL 233.390898 27.769634 \nL 233.572142 27.879047 \nL 233.692757 28.061402 \nL 233.842644 28.170815 \nL 233.958267 28.389641 \nL 234.067926 28.499054 \nL 234.176749 28.681409 \nL 234.330221 28.790822 \nL 234.445455 28.936706 \nL 234.55231 29.046119 \nL 234.667271 29.228474 \nL 234.78917 29.337887 \nL 234.900788 29.593183 \nL 235.027255 29.702596 \nL 235.139039 29.921422 \nL 235.295595 30.030835 \nL 235.407611 30.103777 \nL 235.639003 30.21319 \nL 235.751984 30.395545 \nL 235.889251 30.504958 \nL 235.998679 30.650842 \nL 236.058184 30.760255 \nL 236.177699 30.94261 \nL 236.322004 31.052023 \nL 236.433868 31.416733 \nL 236.529759 31.526146 \nL 236.64091 31.67203 \nL 236.768703 31.781442 \nL 236.877437 31.890855 \nL 237.005201 32.000268 \nL 237.115707 32.146152 \nL 237.160966 32.255565 \nL 237.272647 32.43792 \nL 237.356746 32.547333 \nL 237.472904 32.729688 \nL 237.606251 32.839101 \nL 237.718272 33.057927 \nL 237.790875 33.16734 \nL 237.909626 33.459108 \nL 237.977976 33.568521 \nL 238.095574 33.787347 \nL 238.204078 33.896759 \nL 238.314719 34.188527 \nL 238.369608 34.29794 \nL 238.497635 34.516766 \nL 238.602573 34.626179 \nL 238.717918 34.808534 \nL 238.818733 34.917947 \nL 238.935526 35.063831 \nL 238.995125 35.173244 \nL 239.108181 35.319128 \nL 239.174221 35.428541 \nL 239.314404 35.720309 \nL 239.360669 35.829722 \nL 239.474899 36.15796 \nL 239.552148 36.267373 \nL 239.66256 36.449728 \nL 239.751875 36.559141 \nL 239.863637 36.923851 \nL 239.902676 37.033264 \nL 240.01336 37.215619 \nL 240.068536 37.325032 \nL 240.17865 37.799155 \nL 240.214659 37.908568 \nL 240.335466 38.163864 \nL 240.397499 38.273277 \nL 240.507181 38.565045 \nL 240.522569 38.674458 \nL 240.64647 38.929755 \nL 240.688547 39.039168 \nL 240.798163 39.330936 \nL 240.880859 39.440349 \nL 240.996872 39.549762 \nL 241.075027 39.659175 \nL 241.201565 39.950943 \nL 241.278078 40.060356 \nL 241.403498 40.315652 \nL 241.419854 40.425065 \nL 241.543051 40.789775 \nL 241.663921 40.935659 \nL 241.711799 41.045072 \nL 241.848032 41.446253 \nL 241.872929 41.555666 \nL 241.992847 41.774492 \nL 242.053054 41.883905 \nL 242.17939 42.285086 \nL 242.253893 42.394498 \nL 242.363121 42.795679 \nL 242.40303 42.905092 \nL 242.513512 43.233331 \nL 242.545135 43.342744 \nL 242.674457 43.743925 \nL 242.83615 44.145106 \nL 242.894833 44.254519 \nL 243.036256 44.546286 \nL 243.067658 44.655699 \nL 243.58826 46.187481 \nL 243.639017 46.296894 \nL 243.765644 46.843958 \nL 243.819271 46.953371 \nL 243.937017 47.318081 \nL 243.989084 47.427494 \nL 244.106866 47.755733 \nL 244.175468 47.865146 \nL 244.401679 48.922804 \nL 244.449266 49.032217 \nL 244.567842 49.287514 \nL 244.61668 49.396927 \nL 244.734082 49.725166 \nL 244.784241 49.834579 \nL 245.191026 51.220476 \nL 245.365154 51.73107 \nL 245.384815 51.840483 \nL 245.503501 52.278135 \nL 245.540377 52.387548 \nL 245.667073 53.080496 \nL 245.702918 53.189909 \nL 245.822834 53.481677 \nL 245.841971 53.59109 \nL 247.724288 61.286468 \nL 247.857032 61.870003 \nL 248.066115 62.635894 \nL 248.223617 63.365314 \nL 248.237719 63.474727 \nL 248.386569 64.313559 \nL 248.406187 64.422972 \nL 248.594829 65.407689 \nL 248.804462 66.355934 \nL 248.829091 66.465347 \nL 248.977153 67.085354 \nL 249.03064 67.194767 \nL 249.153468 67.887716 \nL 249.216169 67.997128 \nL 249.434284 69.091258 \nL 249.459666 69.200671 \nL 249.760626 70.221858 \nL 249.818029 70.331271 \nL 250.571763 73.759544 \nL 250.610723 73.868957 \nL 251.755788 79.157249 \nL 251.888113 79.667843 \nL 254.300221 92.17739 \nL 254.412523 92.943281 \nL 255.553984 98.888051 \nL 255.680298 99.362174 \nL 255.71882 99.471587 \nL 255.902128 101.039839 \nL 255.967647 101.513962 \nL 256.13897 102.753975 \nL 256.177531 102.863388 \nL 256.368337 103.884576 \nL 256.491583 104.468111 \nL 256.511976 104.577524 \nL 256.728181 105.671654 \nL 256.800282 106.036364 \nL 256.913368 106.619899 \nL 257.165606 107.7505 \nL 259.480765 118.728266 \nL 259.608896 119.129446 \nL 261.397445 126.970708 \nL 261.467205 127.189534 \nL 261.929678 129.560148 \nL 262.011588 129.961328 \nL 262.129227 130.654277 \nL 262.310775 131.784878 \nL 262.473221 132.477826 \nL 262.587906 133.024891 \nL 262.814036 134.155491 \nL 263.424742 137.000228 \nL 263.650694 138.203771 \nL 263.689593 138.313183 \nL 263.917345 139.261429 \nL 264.086737 139.954378 \nL 264.482491 142.033224 \nL 264.732769 143.127353 \nL 264.84946 143.528534 \nL 264.871975 143.637947 \nL 265.036457 144.330896 \nL 265.063354 144.440309 \nL 265.260134 145.133257 \nL 266.119909 148.598001 \nL 266.197341 148.92624 \nL 266.324572 149.619188 \nL 266.558262 150.020369 \nL 266.690651 150.530963 \nL 266.802604 151.114498 \nL 267.217078 152.755693 \nL 267.325947 152.974519 \nL 267.450531 153.521583 \nL 267.923782 155.053365 \nL 268.279197 156.293378 \nL 268.445351 156.73103 \nL 268.865826 158.22634 \nL 270.021349 162.748742 \nL 270.2381 163.551104 \nL 270.315811 163.660517 \nL 270.438754 164.061697 \nL 270.609782 164.53582 \nL 270.90898 165.557008 \nL 271.008979 165.812305 \nL 271.209684 166.797021 \nL 271.597833 167.927622 \nL 271.70564 168.182918 \nL 271.818827 168.584099 \nL 272.386462 170.48059 \nL 272.534977 171.100597 \nL 272.807194 171.647662 \nL 272.945975 171.902959 \nL 273.369253 172.997088 \nL 273.484162 173.106501 \nL 273.543362 173.398269 \nL 273.661137 173.653566 \nL 273.973785 174.601811 \nL 274.165659 175.112405 \nL 274.255948 175.29476 \nL 274.410671 175.805354 \nL 274.929115 177.191251 \nL 275.02981 177.373606 \nL 275.1496 177.738316 \nL 276.115549 180.072459 \nL 276.189417 180.254814 \nL 276.871046 182.078363 \nL 277.093469 182.552486 \nL 277.443462 183.46426 \nL 277.534906 183.683086 \nL 277.663969 184.047796 \nL 277.850519 184.157209 \nL 278.008284 184.412506 \nL 278.215894 184.959571 \nL 278.357737 185.251338 \nL 278.58922 185.725461 \nL 279.165411 187.366655 \nL 279.414344 187.950191 \nL 279.601047 188.424314 \nL 279.69863 188.606669 \nL 279.849644 188.861966 \nL 280.009274 189.190205 \nL 280.096908 189.481972 \nL 280.141346 189.700798 \nL 280.314578 190.065508 \nL 280.353398 190.174921 \nL 281.104592 191.59729 \nL 281.238166 191.889057 \nL 281.38587 192.107883 \nL 281.511148 192.436122 \nL 281.733979 192.873774 \nL 282.195462 193.566723 \nL 282.299859 193.749077 \nL 282.49033 194.004374 \nL 282.707754 194.259671 \nL 282.79251 194.405555 \nL 283.048134 194.770265 \nL 283.189169 195.207917 \nL 283.338442 195.31733 \nL 283.408399 195.463214 \nL 283.540714 195.645569 \nL 283.701122 195.827924 \nL 284.175288 196.630285 \nL 284.28188 196.922053 \nL 284.382365 197.104408 \nL 284.491304 197.396176 \nL 284.638241 197.54206 \nL 284.911625 198.089124 \nL 285.82383 199.183254 \nL 286.216255 200.022087 \nL 286.363162 200.277383 \nL 286.441719 200.423267 \nL 286.651998 200.605622 \nL 286.793507 200.751506 \nL 287.240085 201.116216 \nL 287.352245 201.407984 \nL 287.391117 201.517397 \nL 287.582698 201.699752 \nL 287.767532 201.99152 \nL 288.000446 202.137404 \nL 288.280003 202.356229 \nL 288.641982 202.720939 \nL 289.13207 203.268004 \nL 289.434386 203.559772 \nL 290.226552 204.61743 \nL 290.602971 204.763314 \nL 290.804755 204.98214 \nL 291.121377 205.273908 \nL 293.00661 207.133928 \nL 293.206776 207.279812 \nL 293.317343 207.462167 \nL 294.009974 207.826877 \nL 294.119633 207.93629 \nL 294.289108 208.118645 \nL 294.522893 208.264529 \nL 294.718454 208.410413 \nL 295.188985 208.556297 \nL 295.270859 208.665709 \nL 296.080745 209.139832 \nL 296.535318 209.468071 \nL 296.611953 209.577484 \nL 297.310323 209.832781 \nL 297.435936 209.942194 \nL 297.847104 210.233962 \nL 297.922179 210.306904 \nL 298.190041 210.452788 \nL 298.571594 210.708085 \nL 299.281041 210.963381 \nL 299.387396 211.036323 \nL 299.886143 211.218678 \nL 300.01838 211.401033 \nL 300.197774 211.583388 \nL 300.327458 211.692801 \nL 301.524808 212.276337 \nL 301.590269 212.349279 \nL 302.545465 212.713989 \nL 305.456955 213.15164 \nL 305.467283 213.188111 \nL 308.824231 213.844589 \nL 309.472774 213.990473 \nL 310.310291 214.026944 \nL 313.954645 214.209299 \nL 314.08133 214.24577 \nL 318.57363 214.428125 \nL 325.457475 214.646951 \nL 335.585057 214.719893 \nL 349.684943 214.756364 \nL 349.684943 214.756364 \n\" style=\"fill:none;stroke:#008000;stroke-linecap:square;stroke-width:1.5;\"/>\n   </g>\n   <g id=\"patch_3\">\n    <path d=\"M 30.103125 224.64 \nL 30.103125 7.2 \n\" style=\"fill:none;stroke:#000000;stroke-linecap:square;stroke-linejoin:miter;stroke-width:0.8;\"/>\n   </g>\n   <g id=\"patch_4\">\n    <path d=\"M 364.903125 224.64 \nL 364.903125 7.2 \n\" style=\"fill:none;stroke:#000000;stroke-linecap:square;stroke-linejoin:miter;stroke-width:0.8;\"/>\n   </g>\n   <g id=\"patch_5\">\n    <path d=\"M 30.103125 224.64 \nL 364.903125 224.64 \n\" style=\"fill:none;stroke:#000000;stroke-linecap:square;stroke-linejoin:miter;stroke-width:0.8;\"/>\n   </g>\n   <g id=\"patch_6\">\n    <path d=\"M 30.103125 7.2 \nL 364.903125 7.2 \n\" style=\"fill:none;stroke:#000000;stroke-linecap:square;stroke-linejoin:miter;stroke-width:0.8;\"/>\n   </g>\n  </g>\n </g>\n <defs>\n  <clipPath id=\"pa4bdfe9267\">\n   <rect height=\"217.44\" width=\"334.8\" x=\"30.103125\" y=\"7.2\"/>\n  </clipPath>\n </defs>\n</svg>\n",
      "image/png": "[encoded data removed]"
     },
     "metadata": {
      "needs_background": "light"
     }
    }
   ],
   "source": [
    "def plot_precision_recall_vs_threshold(precisions, recalls, thresholds):\n",
    "    plt.plot(thresholds, precisions[:-1], \"b--\", label=\"Precision\")\n",
    "    plt.plot(thresholds, recalls[:-1], \"g-\", label=\"Recall\")\n",
    "    [...] # highlight the threshold and add the legend, axis label, and grid\n",
    "\n",
    "plot_precision_recall_vs_threshold(precisions, recalls, thresholds)\n",
    "plt.show()"
   ]
  },
  {
   "cell_type": "code",
   "execution_count": 30,
   "metadata": {},
   "outputs": [],
   "source": [
    "threshold_90_precision = thresholds[np.argmax(precisions >= 0.90)]"
   ]
  },
  {
   "cell_type": "code",
   "execution_count": 31,
   "metadata": {},
   "outputs": [],
   "source": [
    "y_train_pred_90 = (y_scores >= threshold_90_precision)"
   ]
  },
  {
   "cell_type": "code",
   "execution_count": 32,
   "metadata": {},
   "outputs": [
    {
     "output_type": "execute_result",
     "data": {
      "text/plain": [
       "0.9000345901072293"
      ]
     },
     "metadata": {},
     "execution_count": 32
    }
   ],
   "source": [
    "precision_score(y_train_5, y_train_pred_90)"
   ]
  },
  {
   "cell_type": "code",
   "execution_count": 33,
   "metadata": {},
   "outputs": [
    {
     "output_type": "execute_result",
     "data": {
      "text/plain": [
       "0.4799852425751706"
      ]
     },
     "metadata": {},
     "execution_count": 33
    }
   ],
   "source": [
    "recall_score(y_train_5, y_train_pred_90)"
   ]
  },
  {
   "cell_type": "code",
   "execution_count": null,
   "metadata": {},
   "outputs": [],
   "source": []
  }
 ],
 "metadata": {
  "kernelspec": {
   "display_name": "Python 3",
   "language": "python",
   "name": "python3"
  },
  "language_info": {
   "codemirror_mode": {
    "name": "ipython",
    "version": 3
   },
   "file_extension": ".py",
   "mimetype": "text/x-python",
   "name": "python",
   "nbconvert_exporter": "python",
   "pygments_lexer": "ipython3",
   "version": "3.8.2-final"
  }
 },
 "nbformat": 4,
 "nbformat_minor": 4
}